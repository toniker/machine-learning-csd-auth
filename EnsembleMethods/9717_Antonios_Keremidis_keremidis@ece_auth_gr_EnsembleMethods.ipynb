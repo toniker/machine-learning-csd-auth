{
 "cells": [
  {
   "cell_type": "markdown",
   "metadata": {
    "id": "O8gU7AYPXMmA",
    "pycharm": {
     "name": "#%% md\n"
    }
   },
   "source": [
    "## About iPython Notebooks ##\n",
    "\n",
    "iPython Notebooks are interactive coding environments embedded in a webpage. You will be using iPython notebooks in this class. Make sure you fill in any place that says `# BEGIN CODE HERE #END CODE HERE`. After writing your code, you can run the cell by either pressing \"SHIFT\"+\"ENTER\" or by clicking on \"Run\" (denoted by a play symbol). Before you turn this problem in, make sure everything runs as expected. First, **restart the kernel** (in the menubar, select Kernel$\\rightarrow$Restart) and then **run all cells** (in the menubar, select Cell$\\rightarrow$Run All). \n",
    "\n",
    " **What you need to remember:**\n",
    "\n",
    "- Run your cells using SHIFT+ENTER (or \"Run cell\")\n",
    "- Write code in the designated areas using Python 3 only\n",
    "- Do not modify the code outside of the designated areas\n",
    "- In some cases you will also need to explain the results. There will also be designated areas for that. \n",
    "\n",
    "Fill in your **NAME** and **AEM** below:"
   ]
  },
  {
   "cell_type": "code",
   "execution_count": 2,
   "metadata": {
    "id": "lO-jJrtNXMmH",
    "pycharm": {
     "name": "#%%\n"
    }
   },
   "outputs": [],
   "source": [
    "NAME = \"Antonios Keremidis\"\n",
    "AEM = \"9717\""
   ]
  },
  {
   "cell_type": "markdown",
   "metadata": {
    "id": "sh0EE7BJXMmJ",
    "pycharm": {
     "name": "#%% md\n"
    }
   },
   "source": [
    "---"
   ]
  },
  {
   "cell_type": "markdown",
   "metadata": {
    "id": "v_VpnGyWXMmK",
    "pycharm": {
     "name": "#%% md\n"
    }
   },
   "source": [
    "# Assignment 3 - Ensemble Methods #"
   ]
  },
  {
   "cell_type": "markdown",
   "metadata": {
    "id": "2dQ9XoGQXMmK",
    "pycharm": {
     "name": "#%% md\n"
    }
   },
   "source": [
    "Welcome to your third assignment. This exercise will test your understanding on Ensemble Methods."
   ]
  },
  {
   "cell_type": "code",
   "execution_count": 3,
   "metadata": {
    "id": "JvHYIhS-XMmL",
    "pycharm": {
     "name": "#%%\n"
    }
   },
   "outputs": [],
   "source": [
    "# Always run this cell\n",
    "import numpy as np\n",
    "import pandas as pd\n",
    "\n",
    "# USE THE FOLLOWING RANDOM STATE FOR YOUR CODE\n",
    "RANDOM_STATE = 42"
   ]
  },
  {
   "cell_type": "markdown",
   "metadata": {
    "id": "joKwpih2XMmM",
    "pycharm": {
     "name": "#%% md\n"
    }
   },
   "source": [
    "## Download the Dataset ##\n",
    "Download the dataset using the following cell or from this [link](https://github.com/sakrifor/public/tree/master/machine_learning_course/EnsembleDataset) and put the files in the same folder as the .ipynb file. \n",
    "In this assignment you are going to work with a dataset originated from the [ImageCLEFmed: The Medical Task 2016](https://www.imageclef.org/2016/medical) and the **Compound figure detection** subtask. The goal of this subtask is to identify whether a figure is a compound figure (one image consists of more than one figure) or not. The train dataset consits of 4197 examples/figures and each figure has 4096 features which were extracted using a deep neural network. The *CLASS* column represents the class of each example where 1 is a compoung figure and 0 is not. \n"
   ]
  },
  {
   "cell_type": "code",
   "execution_count": 4,
   "metadata": {
    "colab": {
     "base_uri": "https://localhost:8080/"
    },
    "id": "NJdwPr0bXMmM",
    "outputId": "70f064fa-7ee5-4985-f59d-9c94c1d1c3f2",
    "pycharm": {
     "name": "#%%\n"
    }
   },
   "outputs": [],
   "source": [
    "import urllib.request\n",
    "url_train = 'https://github.com/sakrifor/public/raw/master/machine_learning_course/EnsembleDataset/train_set.csv'\n",
    "filename_train = 'train_set.csv'\n",
    "urllib.request.urlretrieve(url_train, filename_train)\n",
    "url_test = 'https://github.com/sakrifor/public/raw/master/machine_learning_course/EnsembleDataset/test_set_noclass.csv'\n",
    "filename_test = 'test_set_noclass.csv'\n",
    "urllib.request.urlretrieve(url_test, filename_test)"
   ]
  },
  {
   "cell_type": "code",
   "execution_count": 5,
   "metadata": {
    "id": "t0OVtYr7XMmN",
    "pycharm": {
     "name": "#%%\n"
    }
   },
   "outputs": [],
   "source": [
    "# Run this cell to load the data\n",
    "train_set = pd.read_csv(\"train_set.csv\").sample(frac=1).reset_index(drop=True)\n",
    "train_set.head()\n",
    "X = train_set.drop(columns=['CLASS'])\n",
    "y = train_set['CLASS'].values"
   ]
  },
  {
   "cell_type": "markdown",
   "metadata": {
    "id": "ZxOGHSmqXMmO",
    "pycharm": {
     "name": "#%% md\n"
    }
   },
   "source": [
    "## 1.0 Testing different ensemble methods ##\n",
    "In this part of the assignment you are asked to create and test different ensemble methods using the train_set.csv dataset. You should use **10-fold cross validation** for your tests and report the average f-measure weighted and balanced accuracy of your models. You can use [cross_validate](https://scikit-learn.org/stable/modules/generated/sklearn.model_selection.cross_validate.html#sklearn.model_selection.cross_validate) and select both metrics to be measured during the evaluation. Otherwise, you can use [KFold](https://scikit-learn.org/stable/modules/generated/sklearn.model_selection.KFold.html#sklearn.model_selection.KFold).\n",
    "\n",
    "### !!! Use n_jobs=-1 where is posibble to use all the cores of a machine for running your tests ###"
   ]
  },
  {
   "cell_type": "markdown",
   "metadata": {
    "id": "Ww_u4OlrXMmO",
    "pycharm": {
     "name": "#%% md\n"
    }
   },
   "source": [
    "### 1.1 Voting ###\n",
    "Create a voting classifier which uses three **simple** estimators/classifiers. Test both soft and hard voting and choose the best one. Consider as simple estimators the following:\n",
    "\n",
    "\n",
    "*   Decision Trees\n",
    "*   Linear Models\n",
    "*   Probabilistic Models (Naive Bayes)\n",
    "*   KNN Models  "
   ]
  },
  {
   "cell_type": "code",
   "execution_count": null,
   "metadata": {
    "collapsed": false,
    "pycharm": {
     "name": "#%%\n"
    }
   },
   "outputs": [],
   "source": [
    "# BEGIN CODE HERE\n",
    "from sklearn.ensemble import VotingClassifier\n",
    "from sklearn.linear_model import LogisticRegression\n",
    "from sklearn.neighbors import KNeighborsClassifier\n",
    "from sklearn.tree import DecisionTreeClassifier\n",
    "from sklearn.metrics import make_scorer, accuracy_score, f1_score\n",
    "from sklearn.model_selection import KFold, cross_validate\n",
    "\n",
    "cls1 = LogisticRegression(random_state=RANDOM_STATE, max_iter=200,\n",
    "                          solver=\"lbfgs\", multi_class=\"multinomial\")  # Classifier #1\n",
    "cls2 = KNeighborsClassifier()  # Classifier #2\n",
    "cls3 = DecisionTreeClassifier(random_state=RANDOM_STATE)  # Classifier #3\n",
    "\n",
    "soft_vcls = VotingClassifier(estimators=[('lr', cls1), ('kn', cls2), ('dt', cls3)],\n",
    "                             voting='soft', n_jobs=-1)  # Soft Voting Classifier\n",
    "hard_vcls = VotingClassifier(estimators=[('lr', cls1), ('kn', cls2), ('dt', cls3)],\n",
    "                             voting='hard', n_jobs=-1)  # Hard Voting Classifier\n",
    "\n",
    "scoring = {'accuracy': make_scorer(accuracy_score),\n",
    "           'f1_score': make_scorer(f1_score)}\n",
    "\n",
    "kfold = KFold(n_splits=10, shuffle=True, random_state=RANDOM_STATE)\n",
    "\n",
    "svlcs_scores = cross_validate(\n",
    "    soft_vcls, X, y, cv=kfold, scoring=scoring, n_jobs=-1)\n",
    "\n",
    "s_avg_fmeasure = np.mean(svlcs_scores['test_f1_score'])\n",
    "s_avg_accuracy = np.mean(svlcs_scores['test_accuracy'])\n",
    "\n",
    "hvlcs_scores = cross_validate(\n",
    "    hard_vcls, X, y, cv=kfold, scoring=scoring, n_jobs=-1)\n",
    "\n",
    "h_avg_fmeasure = np.mean(hvlcs_scores['test_f1_score'])\n",
    "h_avg_accuracy = np.mean(hvlcs_scores['test_accuracy'])\n",
    "# END CODE HERE\n"
   ]
  },
  {
   "cell_type": "code",
   "execution_count": 21,
   "metadata": {
    "collapsed": false,
    "pycharm": {
     "name": "#%%\n"
    }
   },
   "outputs": [
    {
     "name": "stdout",
     "output_type": "stream",
     "text": [
      "Classifier:\n",
      "VotingClassifier(estimators=[('lr',\n",
      "                              LogisticRegression(max_iter=200,\n",
      "                                                 multi_class='multinomial',\n",
      "                                                 random_state=42)),\n",
      "                             ('kn', KNeighborsClassifier()),\n",
      "                             ('dt', DecisionTreeClassifier(random_state=42))],\n",
      "                 n_jobs=-1, voting='soft')\n",
      "F1 Weighted-Score: 0.853 & Balanced Accuracy: 0.8258\n"
     ]
    }
   ],
   "source": [
    "print(\"Classifier:\")\n",
    "print(soft_vcls)\n",
    "print(\"F1 Weighted-Score: {} & Balanced Accuracy: {}\".format(round(s_avg_fmeasure,4), round(s_avg_accuracy,4)))"
   ]
  },
  {
   "cell_type": "markdown",
   "metadata": {
    "collapsed": false,
    "pycharm": {
     "name": "#%% md\n"
    }
   },
   "source": [
    "You should achive above 82% (Soft Voting Classifier)"
   ]
  },
  {
   "cell_type": "code",
   "execution_count": 22,
   "metadata": {
    "collapsed": false,
    "pycharm": {
     "name": "#%%\n"
    }
   },
   "outputs": [
    {
     "name": "stdout",
     "output_type": "stream",
     "text": [
      "Classifier:\n",
      "VotingClassifier(estimators=[('lr',\n",
      "                              LogisticRegression(max_iter=200,\n",
      "                                                 multi_class='multinomial',\n",
      "                                                 random_state=42)),\n",
      "                             ('kn', KNeighborsClassifier()),\n",
      "                             ('dt', DecisionTreeClassifier(random_state=42))],\n",
      "                 n_jobs=-1)\n",
      "F1 Weighted-Score: 0.8529 & Balanced Accuracy: 0.8265\n"
     ]
    }
   ],
   "source": [
    "print(\"Classifier:\")\n",
    "print(hard_vcls)\n",
    "print(\"F1 Weighted-Score: {} & Balanced Accuracy: {}\".format(round(h_avg_fmeasure,4), round(h_avg_accuracy,4)))"
   ]
  },
  {
   "cell_type": "markdown",
   "metadata": {
    "collapsed": false,
    "pycharm": {
     "name": "#%% md\n"
    }
   },
   "source": [
    "You should achieve above 80% in both! (Hard Voting Classifier)"
   ]
  },
  {
   "cell_type": "markdown",
   "metadata": {
    "collapsed": false,
    "pycharm": {
     "name": "#%% md\n"
    }
   },
   "source": [
    "### 1.2 Stacking ###\n",
    "Create a stacking classifier which uses two more complex estimators. Try different simple classifiers (like the ones mentioned before) for the combination of the initial estimators. Report your results in the following cell.\n",
    "\n",
    "Consider as complex estimators the following:\n",
    "\n",
    "*   Random Forest\n",
    "*   SVM\n",
    "*   Gradient Boosting\n",
    "*   MLP\n",
    "\n",
    "\n"
   ]
  },
  {
   "cell_type": "code",
   "execution_count": 9,
   "metadata": {
    "collapsed": false,
    "pycharm": {
     "name": "#%%\n"
    }
   },
   "outputs": [],
   "source": [
    "# BEGIN CODE HERE\n",
    "from sklearn.ensemble import RandomForestClassifier, StackingClassifier, GradientBoostingClassifier\n",
    "from sklearn.neural_network import MLPClassifier\n",
    "\n",
    "cls1 = MLPClassifier(activation=\"relu\", max_iter=2000,\n",
    "                     random_state=RANDOM_STATE)\n",
    "cls2 = GradientBoostingClassifier(\n",
    "    random_state=RANDOM_STATE, n_estimators=20, learning_rate=0.05, max_features=2, max_depth=2)\n",
    "cls3 = RandomForestClassifier(\n",
    "    criterion=\"gini\", max_depth=8, n_jobs=-1, random_state=RANDOM_STATE)\n",
    "\n",
    "kfold = KFold(n_splits=6, shuffle=True, random_state=RANDOM_STATE)\n",
    "\n",
    "scls = StackingClassifier(estimators=[('mlp', cls1), ('gbc', cls2), (\n",
    "    'rfc', cls3)], stack_method='auto', n_jobs=-1, passthrough=False)\n",
    "\n",
    "scores = {'accuracy': make_scorer(\n",
    "    accuracy_score), 'f1_score': make_scorer(f1_score)}\n",
    "\n",
    "results = cross_validate(scls, X, y, cv=kfold, n_jobs=-1, scoring=scores)\n",
    "\n",
    "avg_fmeasure = np.mean(results['test_f1_score'])\n",
    "avg_accuracy = np.mean(results['test_accuracy'])\n",
    "# END CODE HERE\n"
   ]
  },
  {
   "cell_type": "code",
   "execution_count": 10,
   "metadata": {
    "id": "-JLRzkQ1XMmT",
    "pycharm": {
     "name": "#%%\n"
    }
   },
   "outputs": [
    {
     "name": "stdout",
     "output_type": "stream",
     "text": [
      "Classifier:\n",
      "StackingClassifier(estimators=[('mlp',\n",
      "                                MLPClassifier(max_iter=2000, random_state=42)),\n",
      "                               ('gbc',\n",
      "                                GradientBoostingClassifier(learning_rate=0.05,\n",
      "                                                           max_depth=2,\n",
      "                                                           max_features=2,\n",
      "                                                           n_estimators=20,\n",
      "                                                           random_state=42)),\n",
      "                               ('rfc',\n",
      "                                RandomForestClassifier(max_depth=8, n_jobs=-1,\n",
      "                                                       random_state=42))],\n",
      "                   n_jobs=-1)\n",
      "F1 Weighted Score: 0.8763 & Balanced Accuracy: 0.853\n"
     ]
    }
   ],
   "source": [
    "print(\"Classifier:\")\n",
    "print(scls)\n",
    "print(\"F1 Weighted Score: {} & Balanced Accuracy: {}\".format(round(avg_fmeasure,4), round(avg_accuracy,4)))"
   ]
  },
  {
   "cell_type": "markdown",
   "metadata": {
    "id": "zcgOx-HPvBI-",
    "pycharm": {
     "name": "#%% md\n"
    }
   },
   "source": [
    "You should achieve above 85% in both"
   ]
  },
  {
   "cell_type": "markdown",
   "metadata": {
    "id": "O-nqW51xXMmU",
    "pycharm": {
     "name": "#%% md\n"
    }
   },
   "source": [
    "## 2.0 Randomization ##"
   ]
  },
  {
   "cell_type": "markdown",
   "metadata": {
    "id": "KPG8MdFLXMmV",
    "pycharm": {
     "name": "#%% md\n"
    }
   },
   "source": [
    "**2.1** You are asked to create three ensembles of decision trees where each one uses a different method for producing homogeneous ensembles. Compare them with a simple decision tree classifier and report your results in the dictionaries (dict) below using as key the given name of your classifier and as value the f1_weighted/balanced_accuracy score. The dictionaries should contain four different elements.  "
   ]
  },
  {
   "cell_type": "code",
   "execution_count": 11,
   "metadata": {
    "id": "PmkaP-DjXMmV",
    "pycharm": {
     "name": "#%%\n"
    }
   },
   "outputs": [],
   "source": [
    "# BEGIN CODE HERE\n",
    "from sklearn.ensemble import AdaBoostClassifier, BaggingClassifier\n",
    "\n",
    "ens1 = AdaBoostClassifier(random_state=RANDOM_STATE)\n",
    "ens2 = RandomForestClassifier(n_jobs=-1, random_state=RANDOM_STATE)\n",
    "ens3 = BaggingClassifier(n_jobs=-1, random_state=RANDOM_STATE)\n",
    "tree = DecisionTreeClassifier(random_state=RANDOM_STATE)\n",
    "\n",
    "f_measures = dict()\n",
    "accuracies = dict()\n",
    "\n",
    "scores = {'accuracy': make_scorer(\n",
    "    accuracy_score), 'f1_score': make_scorer(f1_score)}\n",
    "\n",
    "kfold = KFold(n_splits=7, random_state=RANDOM_STATE, shuffle=True)\n",
    "\n",
    "results = cross_validate(tree, X, y, cv=kfold, scoring=scores, n_jobs=-1)\n",
    "\n",
    "f_measures[\"dt\"] = results['test_f1_score']\n",
    "accuracies[\"dt\"] = results['test_accuracy']\n",
    "\n",
    "results = cross_validate(ens1, X, y, cv=kfold, scoring=scores, n_jobs=-1)\n",
    "\n",
    "f_measures[\"rf\"] = results['test_f1_score']\n",
    "accuracies[\"rf\"] = results['test_accuracy']\n",
    "\n",
    "results = cross_validate(ens2, X, y, cv=kfold, scoring=scores, n_jobs=-1)\n",
    "\n",
    "f_measures[\"bag\"] = results['test_f1_score']\n",
    "accuracies[\"bag\"] = results['test_accuracy']\n",
    "\n",
    "results = cross_validate(ens3, X, y, cv=kfold, scoring=scores, n_jobs=-1)\n",
    "\n",
    "f_measures[\"ada\"] = results['test_f1_score']\n",
    "accuracies[\"ada\"] = results['test_accuracy']\n",
    "# END CODE HERE\n"
   ]
  },
  {
   "cell_type": "code",
   "execution_count": 12,
   "metadata": {
    "id": "IUqhDUuCXMmW",
    "pycharm": {
     "name": "#%%\n"
    }
   },
   "outputs": [
    {
     "name": "stdout",
     "output_type": "stream",
     "text": [
      "AdaBoostClassifier(random_state=42)\n",
      "RandomForestClassifier(n_jobs=-1, random_state=42)\n",
      "BaggingClassifier(n_jobs=-1, random_state=42)\n",
      "DecisionTreeClassifier(random_state=42)\n",
      "Classifier:dt -  F1 Weighted:[0.7532 0.7301 0.7535 0.745  0.7297 0.7756 0.7607]\n",
      "Classifier:rf -  F1 Weighted:[0.8104 0.8176 0.8459 0.8261 0.8258 0.8516 0.8028]\n",
      "Classifier:bag -  F1 Weighted:[0.8379 0.8342 0.8491 0.8271 0.8434 0.8617 0.8415]\n",
      "Classifier:ada -  F1 Weighted:[0.7835 0.7921 0.8226 0.8083 0.8011 0.8232 0.7888]\n",
      "Classifier:dt -  BalancedAccuracy:[0.715  0.6833 0.7033 0.7028 0.6895 0.7295 0.7195]\n",
      "Classifier:rf -  BalancedAccuracy:[0.7817 0.7783 0.81   0.7997 0.788  0.8197 0.7663]\n",
      "Classifier:bag -  BalancedAccuracy:[0.8033 0.79   0.8117 0.7913 0.8047 0.8247 0.8063]\n",
      "Classifier:ada -  BalancedAccuracy:[0.755  0.7533 0.785  0.783  0.7663 0.7913 0.7613]\n"
     ]
    }
   ],
   "source": [
    "print(ens1)\n",
    "print(ens2)\n",
    "print(ens3)\n",
    "print(tree)\n",
    "for name,score in f_measures.items():\n",
    "    print(\"Classifier:{} -  F1 Weighted:{}\".format(name,np.round(score,4)))\n",
    "for name,score in accuracies.items():\n",
    "    print(\"Classifier:{} -  BalancedAccuracy:{}\".format(name,np.round(score,4)))"
   ]
  },
  {
   "cell_type": "markdown",
   "metadata": {
    "id": "UqdXTE_2XMmX",
    "pycharm": {
     "name": "#%% md\n"
    }
   },
   "source": [
    "**2.2** Describe your classifiers and your results."
   ]
  },
  {
   "cell_type": "markdown",
   "metadata": {
    "id": "rU9POFftXMmX",
    "pycharm": {
     "name": "#%% md\n"
    }
   },
   "source": [
    "For this example I'm using three ensembles, created using `AdaBoostClassifier`, `RandomForestClassifier` and `BaggingClassifier`, each using `sklearn` default parameters apart from the `random_state` parameter.\n",
    "\n",
    "This setup has proved that every ensemble is better than a simple `DecisionTreeClassifier` across both f1-scores and balanced-accuracy."
   ]
  },
  {
   "cell_type": "markdown",
   "metadata": {
    "id": "lkJeuV1FXMmX",
    "pycharm": {
     "name": "#%% md\n"
    }
   },
   "source": [
    "**2.3** Increasing the number of estimators in a bagging classifier can drastically increase the training time of a classifier. Is there any solution to this problem? Can the same solution be applied to boosting classifiers?"
   ]
  },
  {
   "cell_type": "markdown",
   "metadata": {
    "id": "ApNEPcWEXMmY",
    "pycharm": {
     "name": "#%% md\n"
    }
   },
   "source": [
    "The `BaggingClassifier` is a process that can be very easily parallelized to increase performance. This is due to the fact that we're using the same training set as a starting point and doing work with the data itself. In this example a speedup is as easy as passing the parameter `n_jobs=-1` to the classifier.\n",
    "\n",
    "In the case of a boosting classifier the above is not feasible. This is due to the fact that a boosting classifier's model is doing work based on the error of the model that came before it, thus a sequential order must be followed. The task is not able to be parallelized."
   ]
  },
  {
   "cell_type": "markdown",
   "metadata": {
    "id": "XgvsCbUGXMmY",
    "pycharm": {
     "name": "#%% md\n"
    }
   },
   "source": [
    "## 3.0 Creating the best classifier ##"
   ]
  },
  {
   "cell_type": "markdown",
   "metadata": {
    "id": "Q6daX2mRXMmZ",
    "pycharm": {
     "name": "#%% md\n"
    }
   },
   "source": [
    "**3.1** In this part of the assignment you are asked to train the best possible ensemble! Describe the process you followed to achieve this result. How did you choose your classifier and your parameters and why. Report the f-measure (weighted) & balanced accuracy (10-fold cross validation) of your final classifier and results of classifiers you tried in the cell following the code. Can you achieve a balanced accuracy over 83-84%?"
   ]
  },
  {
   "cell_type": "code",
   "execution_count": 28,
   "metadata": {
    "id": "00xAQ0HfXMmZ",
    "pycharm": {
     "name": "#%%\n"
    }
   },
   "outputs": [],
   "source": [
    "# BEGIN CODE HERE\n",
    "from sklearn.svm import SVC, NuSVC\n",
    "\n",
    "cls1 = SVC(random_state=RANDOM_STATE)\n",
    "\n",
    "cls2 = MLPClassifier(random_state=RANDOM_STATE)\n",
    "\n",
    "cls3 = NuSVC(random_state=RANDOM_STATE)\n",
    "\n",
    "cls4 = RandomForestClassifier(n_jobs=-1, random_state=RANDOM_STATE)\n",
    "\n",
    "best_cls = StackingClassifier(estimators=[\n",
    "                              cls1, cls2, cls3, cls4],  stack_method='auto', n_jobs=-1, passthrough=False)\n",
    "\n",
    "scores = {'accuracy': make_scorer(\n",
    "    accuracy_score), 'f1_score': make_scorer(f1_score)}\n",
    "\n",
    "kfold = KFold(n_splits=10, random_state=RANDOM_STATE, shuffle=True)\n",
    "\n",
    "results = cross_validate(scls, X, y, cv=kfold, n_jobs=-1, scoring=scoring)\n",
    "\n",
    "best_fmeasure = results[\"test_f1_score\"].max()\n",
    "best_accuracy = results[\"test_accuracy\"].max()\n",
    "# END CODE HERE\n"
   ]
  },
  {
   "cell_type": "code",
   "execution_count": 29,
   "metadata": {
    "colab": {
     "base_uri": "https://localhost:8080/"
    },
    "id": "FbLB09agXMma",
    "outputId": "be9abfc9-aa0d-4e22-9f07-46926fd1d987",
    "pycharm": {
     "name": "#%%\n"
    }
   },
   "outputs": [
    {
     "name": "stdout",
     "output_type": "stream",
     "text": [
      "Classifier:\n",
      "F1 Weighted-Score:0.9026217228464418 & Balanced Accuracy:0.8806682577565632\n"
     ]
    }
   ],
   "source": [
    "print(\"Classifier:\")\n",
    "#print(best_cls)\n",
    "print(\"F1 Weighted-Score:{} & Balanced Accuracy:{}\".format(best_fmeasure, best_accuracy))"
   ]
  },
  {
   "cell_type": "markdown",
   "metadata": {
    "id": "vnos1uqzXMma",
    "pycharm": {
     "name": "#%% md\n"
    }
   },
   "source": [
    "**3.2** Describe the process you followed to achieve this result. How did you choose your classifier and your parameters and why. Report the f-measure & accuracy (10-fold cross validation) of your final classifier and results of classifiers you tried in the cell following the code."
   ]
  },
  {
   "cell_type": "markdown",
   "metadata": {
    "id": "o5dAfbTfXMmb",
    "pycharm": {
     "name": "#%% md\n"
    }
   },
   "source": [
    "I started by researching ensembles of classifiers on the internet, then through trial and error, I found the best order for the classifiers to be used. I left the parameters at the (sane) default values since trials are extremely comptutationally expensive using ensembles of 4 classifiers.\n",
    "\n",
    "The final combination is `SVC`, `MLPClassifier`, `NuSVC` and a `RandomForestClassifier` combined using a `StackingClassifier` and it yielded a result of\n",
    "`F1 Weighted-Score:0.90 & Balanced Accuracy:0.88`"
   ]
  },
  {
   "cell_type": "markdown",
   "metadata": {
    "id": "fQEFCmbcXMmb",
    "pycharm": {
     "name": "#%% md\n"
    }
   },
   "source": [
    "**3.3** Create a classifier that is going to be used in production - in a live system. Use the *test_set_noclass.csv* to make predictions. Store the predictions in a list.  "
   ]
  },
  {
   "cell_type": "code",
   "execution_count": 1,
   "metadata": {
    "id": "XQPgm_ubXMmc",
    "pycharm": {
     "name": "#%%\n"
    }
   },
   "outputs": [
    {
     "ename": "NameError",
     "evalue": "name 'SVC' is not defined",
     "output_type": "error",
     "traceback": [
      "\u001b[0;31m---------------------------------------------------------------------------\u001b[0m",
      "\u001b[0;31mNameError\u001b[0m                                 Traceback (most recent call last)",
      "\u001b[1;32m/Users/antonis/Developer/machine-learning-csd-auth/EnsembleMethods/9717_Antonios_Keremidis_keremidis@ece_auth_gr_EnsembleMethods.ipynb Cell 36'\u001b[0m in \u001b[0;36m<cell line: 2>\u001b[0;34m()\u001b[0m\n\u001b[1;32m      <a href='vscode-notebook-cell:/Users/antonis/Developer/machine-learning-csd-auth/EnsembleMethods/9717_Antonios_Keremidis_keremidis%40ece_auth_gr_EnsembleMethods.ipynb#ch0000035?line=0'>1</a>\u001b[0m \u001b[39m# BEGIN CODE HERE\u001b[39;00m\n\u001b[0;32m----> <a href='vscode-notebook-cell:/Users/antonis/Developer/machine-learning-csd-auth/EnsembleMethods/9717_Antonios_Keremidis_keremidis%40ece_auth_gr_EnsembleMethods.ipynb#ch0000035?line=1'>2</a>\u001b[0m cls1 \u001b[39m=\u001b[39m SVC(random_state\u001b[39m=\u001b[39mRANDOM_STATE)\n\u001b[1;32m      <a href='vscode-notebook-cell:/Users/antonis/Developer/machine-learning-csd-auth/EnsembleMethods/9717_Antonios_Keremidis_keremidis%40ece_auth_gr_EnsembleMethods.ipynb#ch0000035?line=2'>3</a>\u001b[0m cls2 \u001b[39m=\u001b[39m MLPClassifier(random_state\u001b[39m=\u001b[39mRANDOM_STATE)\n\u001b[1;32m      <a href='vscode-notebook-cell:/Users/antonis/Developer/machine-learning-csd-auth/EnsembleMethods/9717_Antonios_Keremidis_keremidis%40ece_auth_gr_EnsembleMethods.ipynb#ch0000035?line=3'>4</a>\u001b[0m cls3 \u001b[39m=\u001b[39m NuSVC(random_state\u001b[39m=\u001b[39mRANDOM_STATE)\n",
      "\u001b[0;31mNameError\u001b[0m: name 'SVC' is not defined"
     ]
    }
   ],
   "source": [
    "# BEGIN CODE HERE\n",
    "cls1 = SVC(random_state=RANDOM_STATE)\n",
    "cls2 = MLPClassifier(random_state=RANDOM_STATE)\n",
    "cls3 = NuSVC(random_state=RANDOM_STATE)\n",
    "cls4 = RandomForestClassifier(n_jobs=-1, random_state=RANDOM_STATE)\n",
    "stacked_cls = StackingClassifier(estimators=[\n",
    "    cls1, cls2, cls3, cls4],  stack_method='auto', n_jobs=-1, passthrough=False)\n",
    "stacked_cls.fit(X, y)\n",
    "# END CODE HERE\n",
    "test_set = pd.read_csv(\"test_set_noclass.csv\")\n",
    "predictions = stacked_cls.predict(test_set)"
   ]
  },
  {
   "cell_type": "markdown",
   "metadata": {
    "id": "lnAp-d2DXMmf",
    "pycharm": {
     "name": "#%% md\n"
    }
   },
   "source": [
    "LEAVE HERE ANY COMMENTS ABOUT YOUR CLASSIFIER"
   ]
  },
  {
   "cell_type": "markdown",
   "metadata": {
    "id": "Neagvu0TXMmg",
    "pycharm": {
     "name": "#%% md\n"
    }
   },
   "source": [
    "#### This following cell will not be executed. The test_set.csv with the classes will be made available after the deadline and this cell is for testing purposes!!! Do not modify it! ###"
   ]
  },
  {
   "cell_type": "code",
   "execution_count": 16,
   "metadata": {
    "id": "k7K7iI7BXMmg",
    "pycharm": {
     "name": "#%%\n"
    }
   },
   "outputs": [],
   "source": [
    "if False:\n",
    "  from sklearn.metrics import f1_score, balanced_accuracy_score\n",
    "  final_test_set = pd.read_csv('test_set.csv')\n",
    "  ground_truth = final_test_set['CLASS']\n",
    "  print(\"Balanced Accuracy: {}\".format(balanced_accuracy_score(predictions, ground_truth)))\n",
    "  print(\"F1 Weighted-Score: {}\".format(f1_score(predictions, ground_truth, average='weighted')))"
   ]
  },
  {
   "cell_type": "markdown",
   "metadata": {
    "id": "YJH-9KdOzW7z",
    "pycharm": {
     "name": "#%% md\n"
    }
   },
   "source": [
    "Both should aim above 85%!"
   ]
  }
 ],
 "metadata": {
  "accelerator": "GPU",
  "colab": {
   "collapsed_sections": [],
   "name": "EnsembleMethods.ipynb",
   "provenance": []
  },
  "interpreter": {
   "hash": "0aa8e4b5faa24d2e270e223532c0aba9f2b638194a0b2ec8d5635ba1a2fa3226"
  },
  "kernelspec": {
   "display_name": "Python 3.10.2 ('sandbox')",
   "language": "python",
   "name": "python3"
  },
  "language_info": {
   "codemirror_mode": {
    "name": "ipython",
    "version": 3
   },
   "file_extension": ".py",
   "mimetype": "text/x-python",
   "name": "python",
   "nbconvert_exporter": "python",
   "pygments_lexer": "ipython3",
   "version": "3.10.2"
  }
 },
 "nbformat": 4,
 "nbformat_minor": 0
}
